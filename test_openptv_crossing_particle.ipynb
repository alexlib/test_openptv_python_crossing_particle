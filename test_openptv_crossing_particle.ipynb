{
 "cells": [
  {
   "cell_type": "markdown",
   "metadata": {},
   "source": [
    "# Fully operational 2D-PTV of the inertial particle settling through a TNTI"
   ]
  },
  {
   "cell_type": "code",
   "execution_count": 1,
   "metadata": {},
   "outputs": [],
   "source": [
    "import openptv_python as optv\n",
    "import numpy as np\n",
    "import matplotlib.pyplot as plt\n",
    "import matplotlib.image as mpimg\n",
    "from pathlib import Path\n",
    "import os"
   ]
  },
  {
   "cell_type": "code",
   "execution_count": 2,
   "metadata": {},
   "outputs": [
    {
     "data": {
      "text/plain": [
       "['test_openptv_python_crossing_particle',\n",
       " 'parameters',\n",
       " 'cal',\n",
       " 'img',\n",
       " 'res',\n",
       " 'C001H001S0005 (copy)']"
      ]
     },
     "execution_count": 2,
     "metadata": {},
     "output_type": "execute_result"
    }
   ],
   "source": [
    "# working directory\n",
    "exp_dir = Path('../')\n",
    "# os.chdir(exp_dir)\n",
    "# os.listdir('.')\n",
    "os.listdir(exp_dir)"
   ]
  },
  {
   "cell_type": "code",
   "execution_count": 3,
   "metadata": {},
   "outputs": [
    {
     "data": {
      "text/plain": [
       "['multi_planes.par',\n",
       " 'criteria.par',\n",
       " 'pft_version',\n",
       " 'track.par',\n",
       " 'detect_plate.par',\n",
       " 'sequence.par',\n",
       " 'shaking.par',\n",
       " 'man_ori.par',\n",
       " 'orient.par',\n",
       " 'targ_rec.par',\n",
       " 'examine.par',\n",
       " 'cal_ori.par',\n",
       " 'unsharp_mask.par',\n",
       " 'ptv.par',\n",
       " 'pft_version.par',\n",
       " 'dumbbell.par',\n",
       " 'man_ori.dat',\n",
       " 'sortgrid.par']"
      ]
     },
     "execution_count": 3,
     "metadata": {},
     "output_type": "execute_result"
    }
   ],
   "source": [
    "# read parameters\n",
    "from openptv_python.parameters import read_control_par\n",
    "\n",
    "parameters_dir = 'parameters'\n",
    "os.listdir(exp_dir / parameters_dir)\n"
   ]
  },
  {
   "cell_type": "code",
   "execution_count": 6,
   "metadata": {},
   "outputs": [
    {
     "name": "stdout",
     "output_type": "stream",
     "text": [
      "ControlPar(num_cams=1, img_base_name=['img/C001H001S0005000001.tif'], cal_img_base_name=['cal/cam1.tif'], hp_flag=1, all_cam_flag=0, tiff_flag=1, imx=1024, imy=1024, pix_x=0.001, pix_y=0.001, chfield=0, mm=MultimediaPar(nlay=1, n1=1.0, n2=[1.0], d=[1.0], n3=1.0))\n"
     ]
    }
   ],
   "source": [
    "\n",
    "from openptv_python.parameters import read_control_par\n",
    "cpar = read_control_par(os.path.join(exp_dir, parameters_dir,'ptv.par'))\n",
    "print(cpar)"
   ]
  },
  {
   "cell_type": "code",
   "execution_count": null,
   "metadata": {},
   "outputs": [
    {
     "ename": "ValueError",
     "evalue": "mutable default <class 'numpy.ndarray'> for field origin is not allowed: use default_factory",
     "output_type": "error",
     "traceback": [
      "\u001b[0;31m---------------------------------------------------------------------------\u001b[0m",
      "\u001b[0;31mValueError\u001b[0m                                Traceback (most recent call last)",
      "\u001b[1;32m/home/user/Downloads/test_crossing_particle/test_openptv_python_crossing_particle/test_openptv_crossing_particle.ipynb Cell 6\u001b[0m line \u001b[0;36m1\n\u001b[0;32m----> <a href='vscode-notebook-cell:/home/user/Downloads/test_crossing_particle/test_openptv_python_crossing_particle/test_openptv_crossing_particle.ipynb#W5sZmlsZQ%3D%3D?line=0'>1</a>\u001b[0m \u001b[39mfrom\u001b[39;00m \u001b[39mopenptv_python\u001b[39;00m\u001b[39m.\u001b[39;00m\u001b[39mcalibration\u001b[39;00m \u001b[39mimport\u001b[39;00m Calibration, read_calibration\n\u001b[1;32m      <a href='vscode-notebook-cell:/home/user/Downloads/test_crossing_particle/test_openptv_python_crossing_particle/test_openptv_crossing_particle.ipynb#W5sZmlsZQ%3D%3D?line=1'>2</a>\u001b[0m ori_file \u001b[39m=\u001b[39m \u001b[39m'\u001b[39m\u001b[39mcal/cam1.tif.ori\u001b[39m\u001b[39m'\u001b[39m\n\u001b[1;32m      <a href='vscode-notebook-cell:/home/user/Downloads/test_crossing_particle/test_openptv_python_crossing_particle/test_openptv_crossing_particle.ipynb#W5sZmlsZQ%3D%3D?line=2'>3</a>\u001b[0m addpar_file \u001b[39m=\u001b[39m \u001b[39m'\u001b[39m\u001b[39mcal/cam1.tif.addpar\u001b[39m\u001b[39m'\u001b[39m\n",
      "File \u001b[0;32m~/mambaforge/envs/napari/lib/python3.11/site-packages/openptv_python/calibration.py:129\u001b[0m\n\u001b[1;32m    125\u001b[0m \u001b[39m        \u001b[39m\u001b[39m\"\"\"Set the affine distortion parameters scx and she.\"\"\"\u001b[39;00m\n\u001b[1;32m    126\u001b[0m         \u001b[39mself\u001b[39m\u001b[39m.\u001b[39mscx, \u001b[39mself\u001b[39m\u001b[39m.\u001b[39mshe \u001b[39m=\u001b[39m affine\n\u001b[0;32m--> 129\u001b[0m \u001b[39m@dataclass\u001b[39;49m\n\u001b[1;32m    130\u001b[0m \u001b[39mclass\u001b[39;49;00m \u001b[39mmm_lut\u001b[39;49;00m:\n\u001b[1;32m    131\u001b[0m \u001b[39m    \u001b[39;49m\u001b[39m\"\"\"Multimedia lookup table data structure.\"\"\"\u001b[39;49;00m\n\u001b[1;32m    133\u001b[0m     origin: np\u001b[39m.\u001b[39;49mndarray \u001b[39m=\u001b[39;49m np\u001b[39m.\u001b[39;49mr_[\u001b[39m0.0\u001b[39;49m, \u001b[39m0.0\u001b[39;49m, \u001b[39m0.0\u001b[39;49m]\n",
      "File \u001b[0;32m~/mambaforge/envs/napari/lib/python3.11/dataclasses.py:1221\u001b[0m, in \u001b[0;36mdataclass\u001b[0;34m(cls, init, repr, eq, order, unsafe_hash, frozen, match_args, kw_only, slots, weakref_slot)\u001b[0m\n\u001b[1;32m   1218\u001b[0m     \u001b[39mreturn\u001b[39;00m wrap\n\u001b[1;32m   1220\u001b[0m \u001b[39m# We're called as @dataclass without parens.\u001b[39;00m\n\u001b[0;32m-> 1221\u001b[0m \u001b[39mreturn\u001b[39;00m wrap(\u001b[39mcls\u001b[39;49m)\n",
      "File \u001b[0;32m~/mambaforge/envs/napari/lib/python3.11/dataclasses.py:1211\u001b[0m, in \u001b[0;36mdataclass.<locals>.wrap\u001b[0;34m(cls)\u001b[0m\n\u001b[1;32m   1210\u001b[0m \u001b[39mdef\u001b[39;00m \u001b[39mwrap\u001b[39m(\u001b[39mcls\u001b[39m):\n\u001b[0;32m-> 1211\u001b[0m     \u001b[39mreturn\u001b[39;00m _process_class(\u001b[39mcls\u001b[39;49m, init, \u001b[39mrepr\u001b[39;49m, eq, order, unsafe_hash,\n\u001b[1;32m   1212\u001b[0m                           frozen, match_args, kw_only, slots,\n\u001b[1;32m   1213\u001b[0m                           weakref_slot)\n",
      "File \u001b[0;32m~/mambaforge/envs/napari/lib/python3.11/dataclasses.py:959\u001b[0m, in \u001b[0;36m_process_class\u001b[0;34m(cls, init, repr, eq, order, unsafe_hash, frozen, match_args, kw_only, slots, weakref_slot)\u001b[0m\n\u001b[1;32m    956\u001b[0m         kw_only \u001b[39m=\u001b[39m \u001b[39mTrue\u001b[39;00m\n\u001b[1;32m    957\u001b[0m     \u001b[39melse\u001b[39;00m:\n\u001b[1;32m    958\u001b[0m         \u001b[39m# Otherwise it's a field of some type.\u001b[39;00m\n\u001b[0;32m--> 959\u001b[0m         cls_fields\u001b[39m.\u001b[39mappend(_get_field(\u001b[39mcls\u001b[39;49m, name, \u001b[39mtype\u001b[39;49m, kw_only))\n\u001b[1;32m    961\u001b[0m \u001b[39mfor\u001b[39;00m f \u001b[39min\u001b[39;00m cls_fields:\n\u001b[1;32m    962\u001b[0m     fields[f\u001b[39m.\u001b[39mname] \u001b[39m=\u001b[39m f\n",
      "File \u001b[0;32m~/mambaforge/envs/napari/lib/python3.11/dataclasses.py:816\u001b[0m, in \u001b[0;36m_get_field\u001b[0;34m(cls, a_name, a_type, default_kw_only)\u001b[0m\n\u001b[1;32m    812\u001b[0m \u001b[39m# For real fields, disallow mutable defaults.  Use unhashable as a proxy\u001b[39;00m\n\u001b[1;32m    813\u001b[0m \u001b[39m# indicator for mutability.  Read the __hash__ attribute from the class,\u001b[39;00m\n\u001b[1;32m    814\u001b[0m \u001b[39m# not the instance.\u001b[39;00m\n\u001b[1;32m    815\u001b[0m \u001b[39mif\u001b[39;00m f\u001b[39m.\u001b[39m_field_type \u001b[39mis\u001b[39;00m _FIELD \u001b[39mand\u001b[39;00m f\u001b[39m.\u001b[39mdefault\u001b[39m.\u001b[39m\u001b[39m__class__\u001b[39m\u001b[39m.\u001b[39m\u001b[39m__hash__\u001b[39m \u001b[39mis\u001b[39;00m \u001b[39mNone\u001b[39;00m:\n\u001b[0;32m--> 816\u001b[0m     \u001b[39mraise\u001b[39;00m \u001b[39mValueError\u001b[39;00m(\u001b[39mf\u001b[39m\u001b[39m'\u001b[39m\u001b[39mmutable default \u001b[39m\u001b[39m{\u001b[39;00m\u001b[39mtype\u001b[39m(f\u001b[39m.\u001b[39mdefault)\u001b[39m}\u001b[39;00m\u001b[39m for field \u001b[39m\u001b[39m'\u001b[39m\n\u001b[1;32m    817\u001b[0m                      \u001b[39mf\u001b[39m\u001b[39m'\u001b[39m\u001b[39m{\u001b[39;00mf\u001b[39m.\u001b[39mname\u001b[39m}\u001b[39;00m\u001b[39m is not allowed: use default_factory\u001b[39m\u001b[39m'\u001b[39m)\n\u001b[1;32m    819\u001b[0m \u001b[39mreturn\u001b[39;00m f\n",
      "\u001b[0;31mValueError\u001b[0m: mutable default <class 'numpy.ndarray'> for field origin is not allowed: use default_factory"
     ]
    }
   ],
   "source": [
    "from openptv_python.calibration import Calibration, read_calibration\n",
    "ori_file = exp_dir / 'cal' / 'cam1.tif.ori'\n",
    "addpar_file = exp_dir / 'cal' / 'cam1.tif.addpar'\n",
    "cal = [read_calibration(ori_file, addpar_file)]\n",
    "print(cal)"
   ]
  },
  {
   "cell_type": "code",
   "execution_count": null,
   "metadata": {},
   "outputs": [],
   "source": [
    "from openptv_python.track import (\n",
    "    track_forward_start,\n",
    "    trackback_c,\n",
    "    trackcorr_c_finish,\n",
    "    trackcorr_c_loop,\n",
    ")\n",
    "from openptv_python.tracking_run import tr_new"
   ]
  },
  {
   "cell_type": "code",
   "execution_count": null,
   "metadata": {},
   "outputs": [],
   "source": [
    "from openptv_python.parameters import read_sequence_par, read_track_par, read_volume_par\n",
    "\n",
    "seq_par_fname = \"parameters/sequence.par\"\n",
    "tpar_fname = \"parameters/track.par\"\n",
    "vpar_fname = \"parameters/criteria.par\"\n",
    "cpar_fname = \"parameters/ptv.par\"\n",
    "\n",
    "seq_par = read_sequence_par(seq_par_fname, cpar.num_cams)\n",
    "tpar = read_track_par(tpar_fname)\n",
    "vpar = read_volume_par(vpar_fname)\n",
    "\n",
    "print(seq_par)\n",
    "print(tpar)\n",
    "print(vpar)"
   ]
  },
  {
   "cell_type": "code",
   "execution_count": null,
   "metadata": {},
   "outputs": [],
   "source": [
    "# image segmentation\n",
    "img_name = seq_par.img_base_name[0] % 1\n",
    "print(img_name)\n",
    "img = mpimg.imread(img_name)\n",
    "plt.imshow(img, cmap='gray')"
   ]
  },
  {
   "cell_type": "code",
   "execution_count": null,
   "metadata": {},
   "outputs": [],
   "source": [
    "# prepare image for detection\n",
    "from openptv_python.image_processing import (\n",
    "    prepare_image\n",
    ")   \n",
    "img_hp = prepare_image(img, 1, 0)\n",
    "plt.imshow(img_hp, cmap='gray')"
   ]
  },
  {
   "cell_type": "code",
   "execution_count": null,
   "metadata": {},
   "outputs": [],
   "source": [
    "# detection\n",
    "from openptv_python.parameters import TargetPar\n",
    "from openptv_python.segmentation import target_recognition\n",
    "\n",
    "tpar = TargetPar(\n",
    "    gvthresh=[20, 255, 255, 255],\n",
    "    discont=5,\n",
    "    nnmin=1,\n",
    "    nnmax=10,\n",
    "    sumg_min=12,\n",
    "    nxmin=1,\n",
    "    nxmax=10,\n",
    "    nymin=1,\n",
    "    nymax=10,\n",
    ")\n",
    "\n",
    "target_array = target_recognition(img, tpar, 0, cpar)\n",
    "\n",
    "print(len(target_array))\n",
    "print(target_array[0].count_pixels())\n",
    "\n"
   ]
  },
  {
   "cell_type": "code",
   "execution_count": null,
   "metadata": {},
   "outputs": [],
   "source": [
    "plt.imshow(img_hp, cmap='gray')\n",
    "for target in target_array:\n",
    "    plt.plot(target.x, target.y, 'r+')"
   ]
  },
  {
   "cell_type": "code",
   "execution_count": null,
   "metadata": {},
   "outputs": [],
   "source": [
    "\n",
    "run = tr_new(\n",
    "            seq_par_fname,\n",
    "            tpar_fname,\n",
    "            vpar_fname,\n",
    "            cpar_fname,\n",
    "            4,\n",
    "            20000,\n",
    "            \"res/rt_is\",\n",
    "            \"res/ptv_is\",\n",
    "            \"res/added\",\n",
    "            cal,\n",
    "            10000.0,\n",
    ")\n",
    "\n",
    "run.tpar.add = 0\n",
    "print(f\"run.seq_par.first = {run.seq_par.first} run.seq_par.last = {run.seq_par.last}\")\n",
    "\n",
    "track_forward_start(run)\n"
   ]
  },
  {
   "cell_type": "code",
   "execution_count": null,
   "metadata": {},
   "outputs": [],
   "source": [
    "trackcorr_c_loop(run, run.seq_par.first)\n",
    "\n",
    "for step in range(run.seq_par.first + 1, run.seq_par.last):\n",
    "    # print(f\"step = {step}\")\n",
    "    trackcorr_c_loop(run, step)\n",
    "    # print(f\"run.npart = {run.npart}\")\n",
    "    # print(f\"run.nlinks = {run.nlinks}\")\n",
    "\n",
    "trackcorr_c_finish(run, run.seq_par.last)\n",
    "\n",
    "\n",
    "range_val = run.seq_par.last - run.seq_par.first\n",
    "npart = run.npart / range_val\n",
    "nlinks = run.nlinks / range_val\n"
   ]
  }
 ],
 "metadata": {
  "kernelspec": {
   "display_name": "openptvpy",
   "language": "python",
   "name": "python3"
  },
  "language_info": {
   "codemirror_mode": {
    "name": "ipython",
    "version": 3
   },
   "file_extension": ".py",
   "mimetype": "text/x-python",
   "name": "python",
   "nbconvert_exporter": "python",
   "pygments_lexer": "ipython3",
   "version": "3.10.9"
  }
 },
 "nbformat": 4,
 "nbformat_minor": 2
}
